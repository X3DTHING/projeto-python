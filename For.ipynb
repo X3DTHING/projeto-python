{
  "nbformat": 4,
  "nbformat_minor": 0,
  "metadata": {
    "colab": {
      "provenance": [],
      "authorship_tag": "ABX9TyMXe225iXkexMabFldQXVN+",
      "include_colab_link": true
    },
    "kernelspec": {
      "name": "python3",
      "display_name": "Python 3"
    },
    "language_info": {
      "name": "python"
    }
  },
  "cells": [
    {
      "cell_type": "markdown",
      "metadata": {
        "id": "view-in-github",
        "colab_type": "text"
      },
      "source": [
        "<a href=\"https://colab.research.google.com/github/X3DTHING/projeto-python/blob/main/For.ipynb\" target=\"_parent\"><img src=\"https://colab.research.google.com/assets/colab-badge.svg\" alt=\"Open In Colab\"/></a>"
      ]
    },
    {
      "cell_type": "code",
      "execution_count": null,
      "metadata": {
        "colab": {
          "base_uri": "https://localhost:8080/"
        },
        "id": "9-nod_g-pFq4",
        "outputId": "1995a9ff-b213-456b-9617-2d1cb220442a"
      },
      "outputs": [
        {
          "output_type": "stream",
          "name": "stdout",
          "text": [
            "Digite um texto: enterteiniment\n",
            "Digite seu nome: ariclenio\n",
            "Digite sua idade: 30\n",
            "Digite uma curiosidade sobre você: adoro ouvir musica\n",
            "Cadastro concluído\n",
            "Nome: ariclenio\n",
            "Idade: 30 anos\n",
            "Curiosidade: adoro ouvir musica\n"
          ]
        }
      ],
      "source": [
        "palavra = str(input(\"Digite um texto: \"))\n",
        "\n",
        "for letra in palavra:\n",
        "    nome = str(input(\"Digite seu nome: \"))\n",
        "    idade = int(input(\"Digite sua idade: \"))\n",
        "    curiosidade = str(input(\"Digite uma curiosidade sobre você: \"))\n",
        "\n",
        "    print(f\"Cadastro concluído\\nNome: {nome}\\nIdade: {idade} anos\\nCuriosidade: {curiosidade}\")\n",
        "\n"
      ]
    }
  ]
}